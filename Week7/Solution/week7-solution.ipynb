{
 "cells": [
  {
   "cell_type": "code",
   "execution_count": 1,
   "id": "72362142",
   "metadata": {},
   "outputs": [],
   "source": [
    "import pandas as pd"
   ]
  },
  {
   "cell_type": "markdown",
   "id": "0e52d82c",
   "metadata": {},
   "source": [
    "### Function to add 12 records (rows) based on user input"
   ]
  },
  {
   "cell_type": "code",
   "execution_count": 2,
   "id": "c7126413",
   "metadata": {},
   "outputs": [],
   "source": [
    "def add_records():\n",
    "    records = []\n",
    "    for i in range(12):\n",
    "        prod_no = input(\"Enter Product No: \")\n",
    "        prod_name = input(\"Enter Product Name: \")\n",
    "        jan = int(input(\"Enter January Sell: \"))\n",
    "        feb = int(input(\"Enter February Sell: \"))\n",
    "        mar = int(input(\"Enter March Sell: \"))\n",
    "        apr = int(input(\"Enter April Sell: \"))\n",
    "        may = int(input(\"Enter May Sell: \"))\n",
    "        jun = int(input(\"Enter June Sell: \"))\n",
    "        records.append([prod_no, prod_name, jan, feb, mar, apr, may, jun])\n",
    "    return records"
   ]
  },
  {
   "cell_type": "markdown",
   "id": "61377fb2",
   "metadata": {},
   "source": [
    "### 1. Add 12 Records"
   ]
  },
  {
   "cell_type": "code",
   "execution_count": 3,
   "id": "5dad38a9",
   "metadata": {},
   "outputs": [
    {
     "name": "stdout",
     "output_type": "stream",
     "text": [
      "Enter Product No: 1\n",
      "Enter Product Name: pen\n",
      "Enter January Sell: 1200\n",
      "Enter February Sell: 1300\n",
      "Enter March Sell: 1400\n",
      "Enter April Sell: 1600\n",
      "Enter May Sell: 1800\n",
      "Enter June Sell: 1900\n",
      "Enter Product No: 2\n",
      "Enter Product Name: pencil\n",
      "Enter January Sell: 1000\n",
      "Enter February Sell: 1200\n",
      "Enter March Sell: 1300\n",
      "Enter April Sell: 1400\n",
      "Enter May Sell: 1600\n",
      "Enter June Sell: 1800\n",
      "Enter Product No: 3\n",
      "Enter Product Name: page\n",
      "Enter January Sell: 1100\n",
      "Enter February Sell: 1250\n",
      "Enter March Sell: 1600\n",
      "Enter April Sell: 1200\n",
      "Enter May Sell: 1400\n",
      "Enter June Sell: 1500\n",
      "Enter Product No: 4\n",
      "Enter Product Name: eraser\n",
      "Enter January Sell: 1150\n",
      "Enter February Sell: 1200\n",
      "Enter March Sell: 1400\n",
      "Enter April Sell: 1500\n",
      "Enter May Sell: 1800\n",
      "Enter June Sell: 1900\n",
      "Enter Product No: 5\n",
      "Enter Product Name: notebook\n",
      "Enter January Sell: 1200\n",
      "Enter February Sell: 1400\n",
      "Enter March Sell: 1500\n",
      "Enter April Sell: 1700\n",
      "Enter May Sell: 2000\n",
      "Enter June Sell: 2500\n",
      "Enter Product No: 6\n",
      "Enter Product Name: shoes\n",
      "Enter January Sell: 1200\n",
      "Enter February Sell: 1500\n",
      "Enter March Sell: 1600\n",
      "Enter April Sell: 1800\n",
      "Enter May Sell: 2000\n",
      "Enter June Sell: 2500\n",
      "Enter Product No: 7\n",
      "Enter Product Name: bag\n",
      "Enter January Sell: 1000\n",
      "Enter February Sell: 1150\n",
      "Enter March Sell: 1200\n",
      "Enter April Sell: 1250\n",
      "Enter May Sell: 1300\n",
      "Enter June Sell: 1350\n",
      "Enter Product No: 8\n",
      "Enter Product Name: watch\n",
      "Enter January Sell: 1200\n",
      "Enter February Sell: 1400\n",
      "Enter March Sell: 1500\n",
      "Enter April Sell: 1600\n",
      "Enter May Sell: 1800\n",
      "Enter June Sell: 2000\n",
      "Enter Product No: 9\n",
      "Enter Product Name: nailpolish\n",
      "Enter January Sell: 1000\n",
      "Enter February Sell: 1100\n",
      "Enter March Sell: 1400\n",
      "Enter April Sell: 1600\n",
      "Enter May Sell: 1700\n",
      "Enter June Sell: 1800\n",
      "Enter Product No: 10\n",
      "Enter Product Name: apple\n",
      "Enter January Sell: 1200\n",
      "Enter February Sell: 1400\n",
      "Enter March Sell: 1500\n",
      "Enter April Sell: 1600\n",
      "Enter May Sell: 1700\n",
      "Enter June Sell: 1800\n",
      "Enter Product No: 11\n",
      "Enter Product Name: pineapple\n",
      "Enter January Sell: 1000\n",
      "Enter February Sell: 1200\n",
      "Enter March Sell: 1400\n",
      "Enter April Sell: 1500\n",
      "Enter May Sell: 1800\n",
      "Enter June Sell: 2000\n",
      "Enter Product No: 12\n",
      "Enter Product Name: belt\n",
      "Enter January Sell: 1000\n",
      "Enter February Sell: 1200\n",
      "Enter March Sell: 1500\n",
      "Enter April Sell: 1800\n",
      "Enter May Sell: 1900\n",
      "Enter June Sell: 2000\n"
     ]
    }
   ],
   "source": [
    "data = add_records()"
   ]
  },
  {
   "cell_type": "markdown",
   "id": "cabeb1db",
   "metadata": {},
   "source": [
    "### 2. Create DataFrame"
   ]
  },
  {
   "cell_type": "code",
   "execution_count": 4,
   "id": "a52be00e",
   "metadata": {},
   "outputs": [],
   "source": [
    "columns = [\"Prod_No\", \"Prod_Name\", \"January\", \"February\", \"March\", \"April\", \"May\", \"June\"]\n",
    "df = pd.DataFrame(data, columns=columns)"
   ]
  },
  {
   "cell_type": "markdown",
   "id": "63674d42",
   "metadata": {},
   "source": [
    "### 3. Change Column Names"
   ]
  },
  {
   "cell_type": "code",
   "execution_count": 5,
   "id": "d7309fe2",
   "metadata": {},
   "outputs": [],
   "source": [
    "df = df.rename(columns={\"Prod_No\": \"Product No\", \"Prod_Name\": \"Product Name\"})"
   ]
  },
  {
   "cell_type": "markdown",
   "id": "dc2c6d8c",
   "metadata": {},
   "source": [
    "### 4. Add \"Total Sell\" and \"Average Sell\" columns"
   ]
  },
  {
   "cell_type": "code",
   "execution_count": 6,
   "id": "f745f1ab",
   "metadata": {},
   "outputs": [],
   "source": [
    "df[\"Total Sell\"] = df.iloc[:, 2:].sum(axis=1)\n",
    "df[\"Average Sell\"] = df.iloc[:, 2:8].mean(axis=1)"
   ]
  },
  {
   "cell_type": "markdown",
   "id": "54b125cb",
   "metadata": {},
   "source": [
    "### 5. Add 2 rows at the end"
   ]
  },
  {
   "cell_type": "code",
   "execution_count": 7,
   "id": "ffe9da40",
   "metadata": {},
   "outputs": [],
   "source": [
    "df = pd.concat([df, pd.DataFrame([[\"13\", \"mango\", 1000, 2000, 3000, 4000, 5000, 6000],\n",
    "                                   [\"14\", \"bananas\", 700, 800, 900, 1000, 1100, 1200]], columns=columns)], ignore_index=True)"
   ]
  },
  {
   "cell_type": "markdown",
   "id": "101ddea5",
   "metadata": {},
   "source": [
    "### 6. Add 2 rows after the 3rd row"
   ]
  },
  {
   "cell_type": "code",
   "execution_count": 8,
   "id": "1702101b",
   "metadata": {},
   "outputs": [],
   "source": [
    "insert_row1 = {\"Product No\": \"15\", \"Product Name\": \"pomegranate\", \"January\": 8000, \"February\": 9000, \"March\": 10000, \"April\": 11000, \"May\": 12000, \"June\": 13000}\n",
    "insert_row2 = {\"Product No\": \"16\", \"Product Name\": \"coconut\", \"January\": 9000, \"February\": 10000, \"March\": 11000, \"April\": 12000, \"May\": 13000, \"June\": 14000}\n",
    "df = pd.concat([df.iloc[:3], pd.DataFrame([insert_row1, insert_row2]), df.iloc[3:]]).reset_index(drop=True)"
   ]
  },
  {
   "cell_type": "markdown",
   "id": "e6599f0c",
   "metadata": {},
   "source": [
    "### 7. Print first 5 rows"
   ]
  },
  {
   "cell_type": "code",
   "execution_count": 9,
   "id": "1d865468",
   "metadata": {},
   "outputs": [
    {
     "name": "stdout",
     "output_type": "stream",
     "text": [
      "First 5 rows:\n",
      "  Product No Product Name  January  February  March  April    May   June  \\\n",
      "0          1          pen     1200      1300   1400   1600   1800   1900   \n",
      "1          2       pencil     1000      1200   1300   1400   1600   1800   \n",
      "2          3         page     1100      1250   1600   1200   1400   1500   \n",
      "3         15  pomegranate     8000      9000  10000  11000  12000  13000   \n",
      "4         16      coconut     9000     10000  11000  12000  13000  14000   \n",
      "\n",
      "   Total Sell  Average Sell Prod_No Prod_Name  \n",
      "0      9200.0   1533.333333     NaN       NaN  \n",
      "1      8300.0   1383.333333     NaN       NaN  \n",
      "2      8050.0   1341.666667     NaN       NaN  \n",
      "3         NaN           NaN     NaN       NaN  \n",
      "4         NaN           NaN     NaN       NaN  \n"
     ]
    }
   ],
   "source": [
    "print(\"First 5 rows:\")\n",
    "print(df.head(5))"
   ]
  },
  {
   "cell_type": "markdown",
   "id": "cf0b5a21",
   "metadata": {},
   "source": [
    "### 8. Print last 5 rows"
   ]
  },
  {
   "cell_type": "code",
   "execution_count": 10,
   "id": "954c8545",
   "metadata": {},
   "outputs": [
    {
     "name": "stdout",
     "output_type": "stream",
     "text": [
      "\n",
      "Last 5 rows:\n",
      "   Product No Product Name  January  February  March  April   May  June  \\\n",
      "11         10        apple     1200      1400   1500   1600  1700  1800   \n",
      "12         11    pineapple     1000      1200   1400   1500  1800  2000   \n",
      "13         12         belt     1000      1200   1500   1800  1900  2000   \n",
      "14        NaN          NaN     1000      2000   3000   4000  5000  6000   \n",
      "15        NaN          NaN      700       800    900   1000  1100  1200   \n",
      "\n",
      "    Total Sell  Average Sell Prod_No Prod_Name  \n",
      "11      9200.0   1533.333333     NaN       NaN  \n",
      "12      8900.0   1483.333333     NaN       NaN  \n",
      "13      9400.0   1566.666667     NaN       NaN  \n",
      "14         NaN           NaN      13     mango  \n",
      "15         NaN           NaN      14   bananas  \n"
     ]
    }
   ],
   "source": [
    "print(\"\\nLast 5 rows:\")\n",
    "print(df.tail(5))"
   ]
  },
  {
   "cell_type": "markdown",
   "id": "ab8ae3f9",
   "metadata": {},
   "source": [
    "### 9. Print rows 6 to 10"
   ]
  },
  {
   "cell_type": "code",
   "execution_count": 11,
   "id": "37047947",
   "metadata": {},
   "outputs": [
    {
     "name": "stdout",
     "output_type": "stream",
     "text": [
      "\n",
      "Rows 6 to 10:\n",
      "  Product No Product Name  January  February  March  April   May  June  \\\n",
      "5          4       eraser     1150      1200   1400   1500  1800  1900   \n",
      "6          5     notebook     1200      1400   1500   1700  2000  2500   \n",
      "7          6        shoes     1200      1500   1600   1800  2000  2500   \n",
      "8          7          bag     1000      1150   1200   1250  1300  1350   \n",
      "9          8        watch     1200      1400   1500   1600  1800  2000   \n",
      "\n",
      "   Total Sell  Average Sell Prod_No Prod_Name  \n",
      "5      8950.0   1491.666667     NaN       NaN  \n",
      "6     10300.0   1716.666667     NaN       NaN  \n",
      "7     10600.0   1766.666667     NaN       NaN  \n",
      "8      7250.0   1208.333333     NaN       NaN  \n",
      "9      9500.0   1583.333333     NaN       NaN  \n"
     ]
    }
   ],
   "source": [
    "print(\"\\nRows 6 to 10:\")\n",
    "print(df.iloc[5:10])"
   ]
  },
  {
   "cell_type": "markdown",
   "id": "22b7ad96",
   "metadata": {},
   "source": [
    "### 10. Print only product names"
   ]
  },
  {
   "cell_type": "code",
   "execution_count": 12,
   "id": "c7ab61f7",
   "metadata": {},
   "outputs": [
    {
     "name": "stdout",
     "output_type": "stream",
     "text": [
      "\n",
      "Product Names:\n",
      "0             pen\n",
      "1          pencil\n",
      "2            page\n",
      "3     pomegranate\n",
      "4         coconut\n",
      "5          eraser\n",
      "6        notebook\n",
      "7           shoes\n",
      "8             bag\n",
      "9           watch\n",
      "10     nailpolish\n",
      "11          apple\n",
      "12      pineapple\n",
      "13           belt\n",
      "14            NaN\n",
      "15            NaN\n",
      "Name: Product Name, dtype: object\n"
     ]
    }
   ],
   "source": [
    "print(\"\\nProduct Names:\")\n",
    "print(df[\"Product Name\"])"
   ]
  },
  {
   "cell_type": "markdown",
   "id": "918e1a91",
   "metadata": {},
   "source": [
    "### 11. Print January sell with product ID and product name"
   ]
  },
  {
   "cell_type": "code",
   "execution_count": 13,
   "id": "b95c21b9",
   "metadata": {},
   "outputs": [
    {
     "name": "stdout",
     "output_type": "stream",
     "text": [
      "\n",
      "January Sell with Product ID and Product Name:\n",
      "   Product No Product Name  January\n",
      "0           1          pen     1200\n",
      "1           2       pencil     1000\n",
      "2           3         page     1100\n",
      "3          15  pomegranate     8000\n",
      "4          16      coconut     9000\n",
      "5           4       eraser     1150\n",
      "6           5     notebook     1200\n",
      "7           6        shoes     1200\n",
      "8           7          bag     1000\n",
      "9           8        watch     1200\n",
      "10          9   nailpolish     1000\n",
      "11         10        apple     1200\n",
      "12         11    pineapple     1000\n",
      "13         12         belt     1000\n",
      "14        NaN          NaN     1000\n",
      "15        NaN          NaN      700\n"
     ]
    }
   ],
   "source": [
    "print(\"\\nJanuary Sell with Product ID and Product Name:\")\n",
    "print(df[[\"Product No\", \"Product Name\", \"January\"]])"
   ]
  },
  {
   "cell_type": "markdown",
   "id": "79109a88",
   "metadata": {},
   "source": [
    "### 12. Print records where January sell > 5000 and February sell > 8000"
   ]
  },
  {
   "cell_type": "code",
   "execution_count": 14,
   "id": "a1500940",
   "metadata": {},
   "outputs": [
    {
     "name": "stdout",
     "output_type": "stream",
     "text": [
      "\n",
      "Records where January sell > 5000 and February sell > 8000:\n",
      "  Product No Product Name  January  February  March  April    May   June  \\\n",
      "3         15  pomegranate     8000      9000  10000  11000  12000  13000   \n",
      "4         16      coconut     9000     10000  11000  12000  13000  14000   \n",
      "\n",
      "   Total Sell  Average Sell Prod_No Prod_Name  \n",
      "3         NaN           NaN     NaN       NaN  \n",
      "4         NaN           NaN     NaN       NaN  \n"
     ]
    }
   ],
   "source": [
    "print(\"\\nRecords where January sell > 5000 and February sell > 8000:\")\n",
    "print(df[(df[\"January\"] > 5000) & (df[\"February\"] > 8000)])"
   ]
  },
  {
   "cell_type": "markdown",
   "id": "21a4be01",
   "metadata": {},
   "source": [
    "### 13. Print records in sorting order of Product name"
   ]
  },
  {
   "cell_type": "code",
   "execution_count": 15,
   "id": "d3791da1",
   "metadata": {},
   "outputs": [
    {
     "name": "stdout",
     "output_type": "stream",
     "text": [
      "\n",
      "Records sorted by Product Name:\n",
      "   Product No Product Name  January  February  March  April    May   June  \\\n",
      "11         10        apple     1200      1400   1500   1600   1700   1800   \n",
      "8           7          bag     1000      1150   1200   1250   1300   1350   \n",
      "13         12         belt     1000      1200   1500   1800   1900   2000   \n",
      "4          16      coconut     9000     10000  11000  12000  13000  14000   \n",
      "5           4       eraser     1150      1200   1400   1500   1800   1900   \n",
      "10          9   nailpolish     1000      1100   1400   1600   1700   1800   \n",
      "6           5     notebook     1200      1400   1500   1700   2000   2500   \n",
      "2           3         page     1100      1250   1600   1200   1400   1500   \n",
      "0           1          pen     1200      1300   1400   1600   1800   1900   \n",
      "1           2       pencil     1000      1200   1300   1400   1600   1800   \n",
      "12         11    pineapple     1000      1200   1400   1500   1800   2000   \n",
      "3          15  pomegranate     8000      9000  10000  11000  12000  13000   \n",
      "7           6        shoes     1200      1500   1600   1800   2000   2500   \n",
      "9           8        watch     1200      1400   1500   1600   1800   2000   \n",
      "14        NaN          NaN     1000      2000   3000   4000   5000   6000   \n",
      "15        NaN          NaN      700       800    900   1000   1100   1200   \n",
      "\n",
      "    Total Sell  Average Sell Prod_No Prod_Name  \n",
      "11      9200.0   1533.333333     NaN       NaN  \n",
      "8       7250.0   1208.333333     NaN       NaN  \n",
      "13      9400.0   1566.666667     NaN       NaN  \n",
      "4          NaN           NaN     NaN       NaN  \n",
      "5       8950.0   1491.666667     NaN       NaN  \n",
      "10      8600.0   1433.333333     NaN       NaN  \n",
      "6      10300.0   1716.666667     NaN       NaN  \n",
      "2       8050.0   1341.666667     NaN       NaN  \n",
      "0       9200.0   1533.333333     NaN       NaN  \n",
      "1       8300.0   1383.333333     NaN       NaN  \n",
      "12      8900.0   1483.333333     NaN       NaN  \n",
      "3          NaN           NaN     NaN       NaN  \n",
      "7      10600.0   1766.666667     NaN       NaN  \n",
      "9       9500.0   1583.333333     NaN       NaN  \n",
      "14         NaN           NaN      13     mango  \n",
      "15         NaN           NaN      14   bananas  \n"
     ]
    }
   ],
   "source": [
    "print(\"\\nRecords sorted by Product Name:\")\n",
    "print(df.sort_values(by=\"Product Name\"))"
   ]
  },
  {
   "cell_type": "markdown",
   "id": "40efb504",
   "metadata": {},
   "source": [
    "### 14. Display only odd index number column records"
   ]
  },
  {
   "cell_type": "code",
   "execution_count": 16,
   "id": "96197d10",
   "metadata": {},
   "outputs": [
    {
     "name": "stdout",
     "output_type": "stream",
     "text": [
      "\n",
      "Odd Index Column Records:\n",
      "   Product Name  February  April   June  Average Sell Prod_Name\n",
      "0           pen      1300   1600   1900   1533.333333       NaN\n",
      "1        pencil      1200   1400   1800   1383.333333       NaN\n",
      "2          page      1250   1200   1500   1341.666667       NaN\n",
      "3   pomegranate      9000  11000  13000           NaN       NaN\n",
      "4       coconut     10000  12000  14000           NaN       NaN\n",
      "5        eraser      1200   1500   1900   1491.666667       NaN\n",
      "6      notebook      1400   1700   2500   1716.666667       NaN\n",
      "7         shoes      1500   1800   2500   1766.666667       NaN\n",
      "8           bag      1150   1250   1350   1208.333333       NaN\n",
      "9         watch      1400   1600   2000   1583.333333       NaN\n",
      "10   nailpolish      1100   1600   1800   1433.333333       NaN\n",
      "11        apple      1400   1600   1800   1533.333333       NaN\n",
      "12    pineapple      1200   1500   2000   1483.333333       NaN\n",
      "13         belt      1200   1800   2000   1566.666667       NaN\n",
      "14          NaN      2000   4000   6000           NaN     mango\n",
      "15          NaN       800   1000   1200           NaN   bananas\n"
     ]
    }
   ],
   "source": [
    "print(\"\\nOdd Index Column Records:\")\n",
    "print(df.iloc[:, 1::2])"
   ]
  },
  {
   "cell_type": "markdown",
   "id": "a505d723",
   "metadata": {},
   "source": [
    "### 15. Display alternate rows"
   ]
  },
  {
   "cell_type": "code",
   "execution_count": 17,
   "id": "e1632007",
   "metadata": {},
   "outputs": [
    {
     "name": "stdout",
     "output_type": "stream",
     "text": [
      "\n",
      "Alternate Rows:\n",
      "   Product No Product Name  January  February  March  April    May   June  \\\n",
      "0           1          pen     1200      1300   1400   1600   1800   1900   \n",
      "2           3         page     1100      1250   1600   1200   1400   1500   \n",
      "4          16      coconut     9000     10000  11000  12000  13000  14000   \n",
      "6           5     notebook     1200      1400   1500   1700   2000   2500   \n",
      "8           7          bag     1000      1150   1200   1250   1300   1350   \n",
      "10          9   nailpolish     1000      1100   1400   1600   1700   1800   \n",
      "12         11    pineapple     1000      1200   1400   1500   1800   2000   \n",
      "14        NaN          NaN     1000      2000   3000   4000   5000   6000   \n",
      "\n",
      "    Total Sell  Average Sell Prod_No Prod_Name  \n",
      "0       9200.0   1533.333333     NaN       NaN  \n",
      "2       8050.0   1341.666667     NaN       NaN  \n",
      "4          NaN           NaN     NaN       NaN  \n",
      "6      10300.0   1716.666667     NaN       NaN  \n",
      "8       7250.0   1208.333333     NaN       NaN  \n",
      "10      8600.0   1433.333333     NaN       NaN  \n",
      "12      8900.0   1483.333333     NaN       NaN  \n",
      "14         NaN           NaN      13     mango  \n"
     ]
    }
   ],
   "source": [
    "print(\"\\nAlternate Rows:\")\n",
    "print(df.iloc[::2])"
   ]
  },
  {
   "cell_type": "code",
   "execution_count": null,
   "id": "a4171ece",
   "metadata": {},
   "outputs": [],
   "source": []
  }
 ],
 "metadata": {
  "kernelspec": {
   "display_name": "Python 3 (ipykernel)",
   "language": "python",
   "name": "python3"
  },
  "language_info": {
   "codemirror_mode": {
    "name": "ipython",
    "version": 3
   },
   "file_extension": ".py",
   "mimetype": "text/x-python",
   "name": "python",
   "nbconvert_exporter": "python",
   "pygments_lexer": "ipython3",
   "version": "3.9.6"
  }
 },
 "nbformat": 4,
 "nbformat_minor": 5
}
